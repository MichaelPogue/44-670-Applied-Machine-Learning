{
 "cells": [
  {
   "cell_type": "markdown",
   "metadata": {},
   "source": [
    "# My first applied machine learning notebook. \n",
    "We are going to get some data about cars and use it to create and evaluate a predictive model.  Here are the steps will we use:\n",
    "1. Read in the data from a CSV file\n",
    "2. Clean the data\n",
    "3. Create a model and fit it to the data\n",
    "4. Get performance metrics for the model"
   ]
  },
  {
   "cell_type": "markdown",
   "metadata": {},
   "source": [
    "### Getting the data:\n",
    "We need to get the data where we can find it.   Copy automobile_price_data3.csv into the same Getting the data:\n",
    "\n",
    "* Assignment is not an expression. Nothing is displayed.\n",
    "* Print will cause something to be displayed.\n",
    "* The last expression evaluated in a cell will be displayed."
   ]
  },
  {
   "cell_type": "code",
   "execution_count": null,
   "metadata": {
    "tags": []
   },
   "outputs": [],
   "source": [
    "import pandas as pd\n",
    "\n",
    "FILE = \"automobile_price_data3.csv\"\n",
    "\n",
    "data_frame = pd.read_csv(FILE)\n",
    "\n",
    "print(data_frame.keys())\n",
    "data_frame.head(n=10)\n",
    "data_frame.info()\n",
    "data_frame.hist(bins=30)"
   ]
  },
  {
   "cell_type": "markdown",
   "metadata": {},
   "source": [
    "### Clean the data:\n",
    "Remove columns or rows that have missing data.\n",
    "Look at the distribution of the data values"
   ]
  },
  {
   "cell_type": "code",
   "execution_count": 2,
   "metadata": {},
   "outputs": [],
   "source": [
    "data_frame.drop(axis='columns', labels='normalized-losses', inplace=True)\n",
    "data_frame.dropna(axis='index', how=\"any\", inplace=True)"
   ]
  },
  {
   "cell_type": "markdown",
   "metadata": {},
   "source": [
    "### Create and train a model\n",
    "We need to split the data into a training set and a test set"
   ]
  },
  {
   "cell_type": "code",
   "execution_count": 3,
   "metadata": {},
   "outputs": [
    {
     "ename": "ModuleNotFoundError",
     "evalue": "No module named 'sklearn'",
     "output_type": "error",
     "traceback": [
      "\u001b[1;31m---------------------------------------------------------------------------\u001b[0m",
      "\u001b[1;31mModuleNotFoundError\u001b[0m                       Traceback (most recent call last)",
      "Cell \u001b[1;32mIn[3], line 1\u001b[0m\n\u001b[1;32m----> 1\u001b[0m \u001b[38;5;28;01mfrom\u001b[39;00m \u001b[38;5;21;01msklearn\u001b[39;00m\u001b[38;5;21;01m.\u001b[39;00m\u001b[38;5;21;01mmodel_selection\u001b[39;00m \u001b[38;5;28;01mimport\u001b[39;00m train_test_split\n\u001b[0;32m      3\u001b[0m train_set, test_set \u001b[38;5;241m=\u001b[39m train_test_split(data_frame, test_size\u001b[38;5;241m=\u001b[39m\u001b[38;5;241m0.2\u001b[39m, random_state\u001b[38;5;241m=\u001b[39m\u001b[38;5;241m123\u001b[39m)\n\u001b[0;32m      4\u001b[0m \u001b[38;5;28mprint\u001b[39m(\u001b[38;5;28mlen\u001b[39m(train_set), \u001b[38;5;28mlen\u001b[39m(test_set))\n",
      "\u001b[1;31mModuleNotFoundError\u001b[0m: No module named 'sklearn'"
     ]
    }
   ],
   "source": [
    "from sklearn.model_selection import train_test_split\n",
    "\n",
    "train_set, test_set = train_test_split(data_frame, test_size=0.2, random_state=123)\n",
    "print(len(train_set), len(test_set))\n",
    "\n",
    "from sklearn.linear_model import LinearRegression\n",
    "reg = LinearRegression()\n",
    "\n",
    "X = train_set[['weight', 'engine-size', 'bhp', 'mpg']]\n",
    "y = train_set[\"price\"]\n",
    "reg.fit(X, y)\n",
    "\n",
    "\n"
   ]
  },
  {
   "cell_type": "markdown",
   "metadata": {},
   "source": [
    "### Determine the performance of the model"
   ]
  },
  {
   "cell_type": "code",
   "execution_count": null,
   "metadata": {
    "tags": []
   },
   "outputs": [],
   "source": [
    "print(\"The bias is \" , reg.intercept_)\n",
    "print(\"The feature coefficients are \", reg.coef_)\n",
    "\n",
    "\n",
    "print(\"The score for the training set is\", reg.score(X,y))\n",
    "\n",
    "# Check the performance on the test set\n",
    "X_test = test_set[['weight', 'engine-size', 'bhp', 'mpg']]\n",
    "y_test = test_set[\"price\"]\n",
    "print(\"The score for the test set is\", reg.score(X_test,y_test))"
   ]
  }
 ],
 "metadata": {
  "kernelspec": {
   "display_name": "Python 3 (ipykernel)",
   "language": "python",
   "name": "python3"
  },
  "language_info": {
   "codemirror_mode": {
    "name": "ipython",
    "version": 3
   },
   "file_extension": ".py",
   "mimetype": "text/x-python",
   "name": "python",
   "nbconvert_exporter": "python",
   "pygments_lexer": "ipython3",
   "version": "3.11.2"
  },
  "vscode": {
   "interpreter": {
    "hash": "ad2bdc8ecc057115af97d19610ffacc2b4e99fae6737bb82f5d7fb13d2f2c186"
   }
  }
 },
 "nbformat": 4,
 "nbformat_minor": 4
}
